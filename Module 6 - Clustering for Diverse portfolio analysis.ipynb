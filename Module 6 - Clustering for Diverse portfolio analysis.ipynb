{
 "cells": [
  {
   "cell_type": "markdown",
   "metadata": {},
   "source": [
    "# Module 6 - Clustering for Diverse portfolio analysis"
   ]
  },
  {
   "cell_type": "markdown",
   "metadata": {},
   "source": [
    "### Query 6.1 \n",
    "Create a table/dataframe with the closing prices of 30 different stocks, with 10 from each of the caps"
   ]
  },
  {
   "cell_type": "code",
   "execution_count": 57,
   "metadata": {},
   "outputs": [],
   "source": [
    "import pandas as pd"
   ]
  },
  {
   "cell_type": "code",
   "execution_count": 58,
   "metadata": {},
   "outputs": [],
   "source": [
    "data = pd.DataFrame()"
   ]
  },
  {
   "cell_type": "code",
   "execution_count": 59,
   "metadata": {},
   "outputs": [],
   "source": [
    "GAIL = pd.read_csv('Large_Cap\\GAIL.csv')\n",
    "data['GAIL'] = GAIL['Close Price']"
   ]
  },
  {
   "cell_type": "code",
   "execution_count": 60,
   "metadata": {},
   "outputs": [],
   "source": [
    "IOC = pd.read_csv('Large_Cap\\IOC.csv')\n",
    "data['IOC'] = IOC['Close Price']"
   ]
  },
  {
   "cell_type": "code",
   "execution_count": 61,
   "metadata": {},
   "outputs": [],
   "source": [
    "LT = pd.read_csv('Large_Cap\\LT.csv')\n",
    "data['LT'] = LT['Close Price']"
   ]
  },
  {
   "cell_type": "code",
   "execution_count": 62,
   "metadata": {},
   "outputs": [],
   "source": [
    "TCS = pd.read_csv('Large_Cap\\TCS.csv')\n",
    "data['TCS'] = TCS['Close Price']"
   ]
  },
  {
   "cell_type": "code",
   "execution_count": 63,
   "metadata": {},
   "outputs": [],
   "source": [
    "MARUTI = pd.read_csv('Large_Cap\\MARUTI.csv')\n",
    "data['MARUTI'] = MARUTI['Close Price']"
   ]
  },
  {
   "cell_type": "code",
   "execution_count": 64,
   "metadata": {},
   "outputs": [],
   "source": [
    "INFY = pd.read_csv('Large_Cap\\INFY.csv')\n",
    "data['INFY'] = INFY['Close Price']"
   ]
  },
  {
   "cell_type": "code",
   "execution_count": 65,
   "metadata": {},
   "outputs": [],
   "source": [
    "INFRATEL = pd.read_csv('Large_Cap\\INFRATEL.csv')\n",
    "data['INFRATEL'] = INFRATEL['Close Price']"
   ]
  },
  {
   "cell_type": "code",
   "execution_count": 66,
   "metadata": {},
   "outputs": [],
   "source": [
    "BPCL = pd.read_csv('Large_Cap\\BPCL.csv')\n",
    "data['BPCL'] = BPCL['Close Price']"
   ]
  },
  {
   "cell_type": "code",
   "execution_count": 67,
   "metadata": {},
   "outputs": [],
   "source": [
    "SUNPHARMA = pd.read_csv('Large_Cap\\SUNPHARMA.csv')\n",
    "data['SUNPHARMA'] = SUNPHARMA['Close Price']"
   ]
  },
  {
   "cell_type": "code",
   "execution_count": 68,
   "metadata": {},
   "outputs": [],
   "source": [
    "RELIANCE = pd.read_csv('Large_Cap\\RELIANCE.csv')\n",
    "data['RELIANCE'] = RELIANCE['Close Price']"
   ]
  },
  {
   "cell_type": "code",
   "execution_count": 69,
   "metadata": {},
   "outputs": [],
   "source": [
    "IGL = pd.read_csv('Mid_Cap\\IGL.csv')\n",
    "data['IGL'] = IGL['Close Price']"
   ]
  },
  {
   "cell_type": "code",
   "execution_count": 70,
   "metadata": {},
   "outputs": [],
   "source": [
    "IDBI = pd.read_csv('Mid_Cap\\IDBI.csv')\n",
    "data['IDBI'] = IDBI['Close Price']"
   ]
  },
  {
   "cell_type": "code",
   "execution_count": 71,
   "metadata": {},
   "outputs": [],
   "source": [
    "PNB = pd.read_csv('Mid_Cap\\PNB.csv')\n",
    "data['PNB'] = PNB['Close Price']"
   ]
  },
  {
   "cell_type": "code",
   "execution_count": 72,
   "metadata": {},
   "outputs": [],
   "source": [
    "MRPL = pd.read_csv('Mid_Cap\\MRPL.csv')\n",
    "data['MRPL'] = MRPL['Close Price']"
   ]
  },
  {
   "cell_type": "code",
   "execution_count": 73,
   "metadata": {},
   "outputs": [],
   "source": [
    "SUNTV = pd.read_csv('Mid_Cap\\SUNTV.csv')\n",
    "data['SUNTV'] = SUNTV['Close Price']"
   ]
  },
  {
   "cell_type": "code",
   "execution_count": 74,
   "metadata": {},
   "outputs": [],
   "source": [
    "TATACHEM = pd.read_csv('Mid_Cap\\TATACHEM.csv')\n",
    "data['TATACHEM'] = TATACHEM['Close Price']"
   ]
  },
  {
   "cell_type": "code",
   "execution_count": 75,
   "metadata": {},
   "outputs": [],
   "source": [
    "TATAPOWER = pd.read_csv('Mid_Cap\\TATAPOWER.csv')\n",
    "data['TATAPOWER'] = TATAPOWER['Close Price']"
   ]
  },
  {
   "cell_type": "code",
   "execution_count": 76,
   "metadata": {},
   "outputs": [],
   "source": [
    "DHFL = pd.read_csv('Mid_Cap\\DHFL.csv')\n",
    "data['DHFL'] = DHFL['Close Price']"
   ]
  },
  {
   "cell_type": "code",
   "execution_count": 77,
   "metadata": {},
   "outputs": [],
   "source": [
    "RBLBANK = pd.read_csv('Mid_Cap\\RBLBANK.csv')\n",
    "data['RBLBANK'] = RBLBANK['Close Price']"
   ]
  },
  {
   "cell_type": "code",
   "execution_count": 78,
   "metadata": {},
   "outputs": [],
   "source": [
    "GODREJIND = pd.read_csv('Mid_Cap\\GODREJIND.csv')\n",
    "data['GODREJIND'] = GODREJIND['Close Price']"
   ]
  },
  {
   "cell_type": "code",
   "execution_count": 79,
   "metadata": {},
   "outputs": [],
   "source": [
    "IDFC = pd.read_csv('Small_Cap\\IDFC.csv')\n",
    "data['IDFC'] = IDFC['Close Price']"
   ]
  },
  {
   "cell_type": "code",
   "execution_count": 80,
   "metadata": {},
   "outputs": [],
   "source": [
    "ITDC = pd.read_csv('Small_Cap\\ITDC.csv')\n",
    "data['ITDC'] = ITDC['Close Price']"
   ]
  },
  {
   "cell_type": "code",
   "execution_count": 81,
   "metadata": {},
   "outputs": [],
   "source": [
    "IRCON = pd.read_csv('Small_Cap\\IRCON.csv')\n",
    "data['IRCON'] = IRCON['Close Price']"
   ]
  },
  {
   "cell_type": "code",
   "execution_count": 82,
   "metadata": {},
   "outputs": [],
   "source": [
    "PVR = pd.read_csv('Small_Cap\\PVR.csv')\n",
    "data['NCC'] = PVR['Close Price']"
   ]
  },
  {
   "cell_type": "code",
   "execution_count": 83,
   "metadata": {},
   "outputs": [],
   "source": [
    "RCOM = pd.read_csv('Small_Cap\\RCOM.csv')\n",
    "data['RCOM'] = RCOM['Close Price']"
   ]
  },
  {
   "cell_type": "code",
   "execution_count": 84,
   "metadata": {},
   "outputs": [],
   "source": [
    "VIPIND = pd.read_csv('Small_Cap\\VIPIND.csv')\n",
    "data['VIPIND'] = VIPIND['Close Price']"
   ]
  },
  {
   "cell_type": "code",
   "execution_count": 85,
   "metadata": {},
   "outputs": [],
   "source": [
    "SUZLON = pd.read_csv('Small_Cap\\SUZLON.csv')\n",
    "data['SUZLON'] = SUZLON['Close Price']"
   ]
  },
  {
   "cell_type": "code",
   "execution_count": 86,
   "metadata": {},
   "outputs": [],
   "source": [
    "LUXIND = pd.read_csv('Small_Cap\\LUXIND.csv')\n",
    "data['LUXIND'] = LUXIND['Close Price']"
   ]
  },
  {
   "cell_type": "code",
   "execution_count": 87,
   "metadata": {},
   "outputs": [],
   "source": [
    "ASHOKA = pd.read_csv('Small_Cap\\ASHOKA.csv')\n",
    "data['ASHOKA'] = ASHOKA['Close Price']"
   ]
  },
  {
   "cell_type": "code",
   "execution_count": 88,
   "metadata": {},
   "outputs": [],
   "source": [
    "JETAIRWAYS = pd.read_csv('Small_Cap\\JETAIRWAYS.csv')\n",
    "data['JETAIRWAYS'] = JETAIRWAYS['Close Price']"
   ]
  },
  {
   "cell_type": "code",
   "execution_count": 89,
   "metadata": {},
   "outputs": [
    {
     "data": {
      "text/html": [
       "<div>\n",
       "<style scoped>\n",
       "    .dataframe tbody tr th:only-of-type {\n",
       "        vertical-align: middle;\n",
       "    }\n",
       "\n",
       "    .dataframe tbody tr th {\n",
       "        vertical-align: top;\n",
       "    }\n",
       "\n",
       "    .dataframe thead th {\n",
       "        text-align: right;\n",
       "    }\n",
       "</style>\n",
       "<table border=\"1\" class=\"dataframe\">\n",
       "  <thead>\n",
       "    <tr style=\"text-align: right;\">\n",
       "      <th></th>\n",
       "      <th>GAIL</th>\n",
       "      <th>IOC</th>\n",
       "      <th>LT</th>\n",
       "      <th>TCS</th>\n",
       "      <th>MARUTI</th>\n",
       "      <th>INFY</th>\n",
       "      <th>INFRATEL</th>\n",
       "      <th>BPCL</th>\n",
       "      <th>SUNPHARMA</th>\n",
       "      <th>RELIANCE</th>\n",
       "      <th>...</th>\n",
       "      <th>IDFC</th>\n",
       "      <th>ITDC</th>\n",
       "      <th>IRCON</th>\n",
       "      <th>NCC</th>\n",
       "      <th>RCOM</th>\n",
       "      <th>VIPIND</th>\n",
       "      <th>SUZLON</th>\n",
       "      <th>LUXIND</th>\n",
       "      <th>ASHOKA</th>\n",
       "      <th>JETAIRWAYS</th>\n",
       "    </tr>\n",
       "    <tr>\n",
       "      <th>Date</th>\n",
       "      <th></th>\n",
       "      <th></th>\n",
       "      <th></th>\n",
       "      <th></th>\n",
       "      <th></th>\n",
       "      <th></th>\n",
       "      <th></th>\n",
       "      <th></th>\n",
       "      <th></th>\n",
       "      <th></th>\n",
       "      <th></th>\n",
       "      <th></th>\n",
       "      <th></th>\n",
       "      <th></th>\n",
       "      <th></th>\n",
       "      <th></th>\n",
       "      <th></th>\n",
       "      <th></th>\n",
       "      <th></th>\n",
       "      <th></th>\n",
       "      <th></th>\n",
       "    </tr>\n",
       "  </thead>\n",
       "  <tbody>\n",
       "    <tr>\n",
       "      <td>2017-05-15</td>\n",
       "      <td>414.00</td>\n",
       "      <td>442.10</td>\n",
       "      <td>1742.40</td>\n",
       "      <td>2365.10</td>\n",
       "      <td>6823.90</td>\n",
       "      <td>951.55</td>\n",
       "      <td>371.05</td>\n",
       "      <td>727.85</td>\n",
       "      <td>654.45</td>\n",
       "      <td>1344.10</td>\n",
       "      <td>...</td>\n",
       "      <td>63.70</td>\n",
       "      <td>650.15</td>\n",
       "      <td>415.3</td>\n",
       "      <td>1524.95</td>\n",
       "      <td>32.00</td>\n",
       "      <td>199.20</td>\n",
       "      <td>19.60</td>\n",
       "      <td>819.60</td>\n",
       "      <td>216.05</td>\n",
       "      <td>527.50</td>\n",
       "    </tr>\n",
       "    <tr>\n",
       "      <td>2017-05-16</td>\n",
       "      <td>411.40</td>\n",
       "      <td>446.60</td>\n",
       "      <td>1740.70</td>\n",
       "      <td>2429.15</td>\n",
       "      <td>6953.95</td>\n",
       "      <td>955.00</td>\n",
       "      <td>376.55</td>\n",
       "      <td>733.30</td>\n",
       "      <td>652.35</td>\n",
       "      <td>1356.30</td>\n",
       "      <td>...</td>\n",
       "      <td>64.25</td>\n",
       "      <td>636.70</td>\n",
       "      <td>427.0</td>\n",
       "      <td>1539.00</td>\n",
       "      <td>32.10</td>\n",
       "      <td>200.90</td>\n",
       "      <td>19.70</td>\n",
       "      <td>817.50</td>\n",
       "      <td>214.90</td>\n",
       "      <td>534.15</td>\n",
       "    </tr>\n",
       "    <tr>\n",
       "      <td>2017-05-17</td>\n",
       "      <td>408.30</td>\n",
       "      <td>444.25</td>\n",
       "      <td>1755.45</td>\n",
       "      <td>2455.35</td>\n",
       "      <td>6958.20</td>\n",
       "      <td>952.80</td>\n",
       "      <td>389.90</td>\n",
       "      <td>727.45</td>\n",
       "      <td>650.90</td>\n",
       "      <td>1353.10</td>\n",
       "      <td>...</td>\n",
       "      <td>63.35</td>\n",
       "      <td>626.75</td>\n",
       "      <td>421.4</td>\n",
       "      <td>1530.30</td>\n",
       "      <td>31.95</td>\n",
       "      <td>199.65</td>\n",
       "      <td>19.90</td>\n",
       "      <td>819.80</td>\n",
       "      <td>217.00</td>\n",
       "      <td>528.90</td>\n",
       "    </tr>\n",
       "    <tr>\n",
       "      <td>2017-05-18</td>\n",
       "      <td>404.75</td>\n",
       "      <td>439.90</td>\n",
       "      <td>1722.60</td>\n",
       "      <td>2536.20</td>\n",
       "      <td>6831.05</td>\n",
       "      <td>961.75</td>\n",
       "      <td>378.90</td>\n",
       "      <td>714.90</td>\n",
       "      <td>653.95</td>\n",
       "      <td>1327.35</td>\n",
       "      <td>...</td>\n",
       "      <td>61.50</td>\n",
       "      <td>604.65</td>\n",
       "      <td>407.1</td>\n",
       "      <td>1515.05</td>\n",
       "      <td>31.05</td>\n",
       "      <td>193.30</td>\n",
       "      <td>20.00</td>\n",
       "      <td>820.05</td>\n",
       "      <td>209.65</td>\n",
       "      <td>522.70</td>\n",
       "    </tr>\n",
       "    <tr>\n",
       "      <td>2017-05-19</td>\n",
       "      <td>401.05</td>\n",
       "      <td>435.40</td>\n",
       "      <td>1724.55</td>\n",
       "      <td>2507.15</td>\n",
       "      <td>6790.55</td>\n",
       "      <td>957.95</td>\n",
       "      <td>378.95</td>\n",
       "      <td>702.45</td>\n",
       "      <td>653.15</td>\n",
       "      <td>1318.85</td>\n",
       "      <td>...</td>\n",
       "      <td>61.15</td>\n",
       "      <td>594.30</td>\n",
       "      <td>399.8</td>\n",
       "      <td>1513.55</td>\n",
       "      <td>30.55</td>\n",
       "      <td>195.95</td>\n",
       "      <td>20.60</td>\n",
       "      <td>817.80</td>\n",
       "      <td>206.25</td>\n",
       "      <td>520.40</td>\n",
       "    </tr>\n",
       "    <tr>\n",
       "      <td>...</td>\n",
       "      <td>...</td>\n",
       "      <td>...</td>\n",
       "      <td>...</td>\n",
       "      <td>...</td>\n",
       "      <td>...</td>\n",
       "      <td>...</td>\n",
       "      <td>...</td>\n",
       "      <td>...</td>\n",
       "      <td>...</td>\n",
       "      <td>...</td>\n",
       "      <td>...</td>\n",
       "      <td>...</td>\n",
       "      <td>...</td>\n",
       "      <td>...</td>\n",
       "      <td>...</td>\n",
       "      <td>...</td>\n",
       "      <td>...</td>\n",
       "      <td>...</td>\n",
       "      <td>...</td>\n",
       "      <td>...</td>\n",
       "      <td>...</td>\n",
       "    </tr>\n",
       "    <tr>\n",
       "      <td>2019-05-07</td>\n",
       "      <td>340.75</td>\n",
       "      <td>156.70</td>\n",
       "      <td>1366.60</td>\n",
       "      <td>2260.35</td>\n",
       "      <td>6710.00</td>\n",
       "      <td>723.60</td>\n",
       "      <td>268.00</td>\n",
       "      <td>390.35</td>\n",
       "      <td>453.15</td>\n",
       "      <td>1384.90</td>\n",
       "      <td>...</td>\n",
       "      <td>37.75</td>\n",
       "      <td>254.30</td>\n",
       "      <td>NaN</td>\n",
       "      <td>1802.30</td>\n",
       "      <td>2.10</td>\n",
       "      <td>430.15</td>\n",
       "      <td>6.35</td>\n",
       "      <td>1314.40</td>\n",
       "      <td>118.10</td>\n",
       "      <td>127.30</td>\n",
       "    </tr>\n",
       "    <tr>\n",
       "      <td>2019-05-08</td>\n",
       "      <td>337.50</td>\n",
       "      <td>153.45</td>\n",
       "      <td>1360.35</td>\n",
       "      <td>2215.40</td>\n",
       "      <td>6709.65</td>\n",
       "      <td>718.40</td>\n",
       "      <td>266.70</td>\n",
       "      <td>378.85</td>\n",
       "      <td>448.20</td>\n",
       "      <td>1343.50</td>\n",
       "      <td>...</td>\n",
       "      <td>37.10</td>\n",
       "      <td>251.95</td>\n",
       "      <td>NaN</td>\n",
       "      <td>1780.10</td>\n",
       "      <td>2.20</td>\n",
       "      <td>420.80</td>\n",
       "      <td>5.95</td>\n",
       "      <td>1268.50</td>\n",
       "      <td>115.45</td>\n",
       "      <td>131.35</td>\n",
       "    </tr>\n",
       "    <tr>\n",
       "      <td>2019-05-09</td>\n",
       "      <td>340.40</td>\n",
       "      <td>152.20</td>\n",
       "      <td>1356.45</td>\n",
       "      <td>2132.00</td>\n",
       "      <td>6702.00</td>\n",
       "      <td>724.55</td>\n",
       "      <td>267.10</td>\n",
       "      <td>379.80</td>\n",
       "      <td>439.15</td>\n",
       "      <td>1299.45</td>\n",
       "      <td>...</td>\n",
       "      <td>37.60</td>\n",
       "      <td>246.25</td>\n",
       "      <td>NaN</td>\n",
       "      <td>1748.50</td>\n",
       "      <td>2.30</td>\n",
       "      <td>431.50</td>\n",
       "      <td>5.65</td>\n",
       "      <td>1248.20</td>\n",
       "      <td>115.30</td>\n",
       "      <td>147.40</td>\n",
       "    </tr>\n",
       "    <tr>\n",
       "      <td>2019-05-10</td>\n",
       "      <td>341.55</td>\n",
       "      <td>150.60</td>\n",
       "      <td>1355.50</td>\n",
       "      <td>2157.85</td>\n",
       "      <td>6650.15</td>\n",
       "      <td>719.35</td>\n",
       "      <td>262.25</td>\n",
       "      <td>368.05</td>\n",
       "      <td>439.35</td>\n",
       "      <td>1256.45</td>\n",
       "      <td>...</td>\n",
       "      <td>37.60</td>\n",
       "      <td>251.15</td>\n",
       "      <td>NaN</td>\n",
       "      <td>1758.45</td>\n",
       "      <td>2.40</td>\n",
       "      <td>434.95</td>\n",
       "      <td>6.40</td>\n",
       "      <td>1239.95</td>\n",
       "      <td>117.45</td>\n",
       "      <td>151.75</td>\n",
       "    </tr>\n",
       "    <tr>\n",
       "      <td>2019-05-13</td>\n",
       "      <td>332.05</td>\n",
       "      <td>147.60</td>\n",
       "      <td>1317.65</td>\n",
       "      <td>2151.95</td>\n",
       "      <td>6624.95</td>\n",
       "      <td>721.05</td>\n",
       "      <td>265.45</td>\n",
       "      <td>362.95</td>\n",
       "      <td>437.75</td>\n",
       "      <td>1251.15</td>\n",
       "      <td>...</td>\n",
       "      <td>38.10</td>\n",
       "      <td>242.75</td>\n",
       "      <td>NaN</td>\n",
       "      <td>1715.40</td>\n",
       "      <td>2.30</td>\n",
       "      <td>425.60</td>\n",
       "      <td>5.60</td>\n",
       "      <td>1211.55</td>\n",
       "      <td>117.15</td>\n",
       "      <td>139.10</td>\n",
       "    </tr>\n",
       "  </tbody>\n",
       "</table>\n",
       "<p>494 rows × 30 columns</p>\n",
       "</div>"
      ],
      "text/plain": [
       "              GAIL     IOC       LT      TCS   MARUTI    INFY  INFRATEL  \\\n",
       "Date                                                                      \n",
       "2017-05-15  414.00  442.10  1742.40  2365.10  6823.90  951.55    371.05   \n",
       "2017-05-16  411.40  446.60  1740.70  2429.15  6953.95  955.00    376.55   \n",
       "2017-05-17  408.30  444.25  1755.45  2455.35  6958.20  952.80    389.90   \n",
       "2017-05-18  404.75  439.90  1722.60  2536.20  6831.05  961.75    378.90   \n",
       "2017-05-19  401.05  435.40  1724.55  2507.15  6790.55  957.95    378.95   \n",
       "...            ...     ...      ...      ...      ...     ...       ...   \n",
       "2019-05-07  340.75  156.70  1366.60  2260.35  6710.00  723.60    268.00   \n",
       "2019-05-08  337.50  153.45  1360.35  2215.40  6709.65  718.40    266.70   \n",
       "2019-05-09  340.40  152.20  1356.45  2132.00  6702.00  724.55    267.10   \n",
       "2019-05-10  341.55  150.60  1355.50  2157.85  6650.15  719.35    262.25   \n",
       "2019-05-13  332.05  147.60  1317.65  2151.95  6624.95  721.05    265.45   \n",
       "\n",
       "              BPCL  SUNPHARMA  RELIANCE  ...   IDFC    ITDC  IRCON      NCC  \\\n",
       "Date                                     ...                                  \n",
       "2017-05-15  727.85     654.45   1344.10  ...  63.70  650.15  415.3  1524.95   \n",
       "2017-05-16  733.30     652.35   1356.30  ...  64.25  636.70  427.0  1539.00   \n",
       "2017-05-17  727.45     650.90   1353.10  ...  63.35  626.75  421.4  1530.30   \n",
       "2017-05-18  714.90     653.95   1327.35  ...  61.50  604.65  407.1  1515.05   \n",
       "2017-05-19  702.45     653.15   1318.85  ...  61.15  594.30  399.8  1513.55   \n",
       "...            ...        ...       ...  ...    ...     ...    ...      ...   \n",
       "2019-05-07  390.35     453.15   1384.90  ...  37.75  254.30    NaN  1802.30   \n",
       "2019-05-08  378.85     448.20   1343.50  ...  37.10  251.95    NaN  1780.10   \n",
       "2019-05-09  379.80     439.15   1299.45  ...  37.60  246.25    NaN  1748.50   \n",
       "2019-05-10  368.05     439.35   1256.45  ...  37.60  251.15    NaN  1758.45   \n",
       "2019-05-13  362.95     437.75   1251.15  ...  38.10  242.75    NaN  1715.40   \n",
       "\n",
       "             RCOM  VIPIND  SUZLON   LUXIND  ASHOKA  JETAIRWAYS  \n",
       "Date                                                            \n",
       "2017-05-15  32.00  199.20   19.60   819.60  216.05      527.50  \n",
       "2017-05-16  32.10  200.90   19.70   817.50  214.90      534.15  \n",
       "2017-05-17  31.95  199.65   19.90   819.80  217.00      528.90  \n",
       "2017-05-18  31.05  193.30   20.00   820.05  209.65      522.70  \n",
       "2017-05-19  30.55  195.95   20.60   817.80  206.25      520.40  \n",
       "...           ...     ...     ...      ...     ...         ...  \n",
       "2019-05-07   2.10  430.15    6.35  1314.40  118.10      127.30  \n",
       "2019-05-08   2.20  420.80    5.95  1268.50  115.45      131.35  \n",
       "2019-05-09   2.30  431.50    5.65  1248.20  115.30      147.40  \n",
       "2019-05-10   2.40  434.95    6.40  1239.95  117.45      151.75  \n",
       "2019-05-13   2.30  425.60    5.60  1211.55  117.15      139.10  \n",
       "\n",
       "[494 rows x 30 columns]"
      ]
     },
     "execution_count": 89,
     "metadata": {},
     "output_type": "execute_result"
    }
   ],
   "source": [
    "data['Date'] = ASHOKA['Date']\n",
    "data['Date'] = pd.to_datetime(data['Date'])\n",
    "data.set_index('Date',inplace = True)\n",
    "data"
   ]
  },
  {
   "cell_type": "markdown",
   "metadata": {},
   "source": [
    "### Query 6.2\n",
    "Calculate average annual percentage return and volatility of all 30 stocks over a theoretical one year period"
   ]
  },
  {
   "cell_type": "code",
   "execution_count": 92,
   "metadata": {},
   "outputs": [
    {
     "data": {
      "text/html": [
       "<div>\n",
       "<style scoped>\n",
       "    .dataframe tbody tr th:only-of-type {\n",
       "        vertical-align: middle;\n",
       "    }\n",
       "\n",
       "    .dataframe tbody tr th {\n",
       "        vertical-align: top;\n",
       "    }\n",
       "\n",
       "    .dataframe thead th {\n",
       "        text-align: right;\n",
       "    }\n",
       "</style>\n",
       "<table border=\"1\" class=\"dataframe\">\n",
       "  <thead>\n",
       "    <tr style=\"text-align: right;\">\n",
       "      <th></th>\n",
       "      <th>Returns</th>\n",
       "      <th>Volatility</th>\n",
       "    </tr>\n",
       "  </thead>\n",
       "  <tbody>\n",
       "    <tr>\n",
       "      <td>GAIL</td>\n",
       "      <td>0.343332</td>\n",
       "      <td>0.284225</td>\n",
       "    </tr>\n",
       "    <tr>\n",
       "      <td>IOC</td>\n",
       "      <td>-0.090250</td>\n",
       "      <td>0.277190</td>\n",
       "    </tr>\n",
       "    <tr>\n",
       "      <td>LT</td>\n",
       "      <td>-0.466622</td>\n",
       "      <td>0.469238</td>\n",
       "    </tr>\n",
       "    <tr>\n",
       "      <td>TCS</td>\n",
       "      <td>0.165402</td>\n",
       "      <td>0.195432</td>\n",
       "    </tr>\n",
       "    <tr>\n",
       "      <td>MARUTI</td>\n",
       "      <td>0.534278</td>\n",
       "      <td>0.155791</td>\n",
       "    </tr>\n",
       "    <tr>\n",
       "      <td>INFY</td>\n",
       "      <td>0.140710</td>\n",
       "      <td>0.242150</td>\n",
       "    </tr>\n",
       "    <tr>\n",
       "      <td>INFRATEL</td>\n",
       "      <td>-0.008249</td>\n",
       "      <td>0.326391</td>\n",
       "    </tr>\n",
       "    <tr>\n",
       "      <td>BPCL</td>\n",
       "      <td>-0.390129</td>\n",
       "      <td>0.506139</td>\n",
       "    </tr>\n",
       "    <tr>\n",
       "      <td>SUNPHARMA</td>\n",
       "      <td>-0.297227</td>\n",
       "      <td>0.337743</td>\n",
       "    </tr>\n",
       "    <tr>\n",
       "      <td>RELIANCE</td>\n",
       "      <td>-0.280770</td>\n",
       "      <td>0.691471</td>\n",
       "    </tr>\n",
       "    <tr>\n",
       "      <td>IGL</td>\n",
       "      <td>-0.479287</td>\n",
       "      <td>1.090425</td>\n",
       "    </tr>\n",
       "    <tr>\n",
       "      <td>IDBI</td>\n",
       "      <td>-0.323429</td>\n",
       "      <td>0.424137</td>\n",
       "    </tr>\n",
       "    <tr>\n",
       "      <td>PNB</td>\n",
       "      <td>0.324857</td>\n",
       "      <td>0.708476</td>\n",
       "    </tr>\n",
       "    <tr>\n",
       "      <td>MRPL</td>\n",
       "      <td>-0.084480</td>\n",
       "      <td>0.359268</td>\n",
       "    </tr>\n",
       "    <tr>\n",
       "      <td>SUNTV</td>\n",
       "      <td>0.129259</td>\n",
       "      <td>0.346028</td>\n",
       "    </tr>\n",
       "    <tr>\n",
       "      <td>TATACHEM</td>\n",
       "      <td>0.250370</td>\n",
       "      <td>0.246637</td>\n",
       "    </tr>\n",
       "    <tr>\n",
       "      <td>TATAPOWER</td>\n",
       "      <td>0.175810</td>\n",
       "      <td>0.248390</td>\n",
       "    </tr>\n",
       "    <tr>\n",
       "      <td>DHFL</td>\n",
       "      <td>30.245076</td>\n",
       "      <td>8.769715</td>\n",
       "    </tr>\n",
       "    <tr>\n",
       "      <td>RBLBANK</td>\n",
       "      <td>-0.152965</td>\n",
       "      <td>0.227492</td>\n",
       "    </tr>\n",
       "    <tr>\n",
       "      <td>GODREJIND</td>\n",
       "      <td>0.085021</td>\n",
       "      <td>0.275577</td>\n",
       "    </tr>\n",
       "    <tr>\n",
       "      <td>IDFC</td>\n",
       "      <td>-0.105036</td>\n",
       "      <td>0.332030</td>\n",
       "    </tr>\n",
       "    <tr>\n",
       "      <td>ITDC</td>\n",
       "      <td>-0.255867</td>\n",
       "      <td>0.524879</td>\n",
       "    </tr>\n",
       "    <tr>\n",
       "      <td>IRCON</td>\n",
       "      <td>-0.079240</td>\n",
       "      <td>0.301518</td>\n",
       "    </tr>\n",
       "    <tr>\n",
       "      <td>NCC</td>\n",
       "      <td>-0.183927</td>\n",
       "      <td>0.285611</td>\n",
       "    </tr>\n",
       "    <tr>\n",
       "      <td>RCOM</td>\n",
       "      <td>-1.426379</td>\n",
       "      <td>0.696354</td>\n",
       "    </tr>\n",
       "    <tr>\n",
       "      <td>VIPIND</td>\n",
       "      <td>1.036222</td>\n",
       "      <td>0.431718</td>\n",
       "    </tr>\n",
       "    <tr>\n",
       "      <td>SUZLON</td>\n",
       "      <td>-0.559556</td>\n",
       "      <td>0.384850</td>\n",
       "    </tr>\n",
       "    <tr>\n",
       "      <td>LUXIND</td>\n",
       "      <td>1.051938</td>\n",
       "      <td>0.347181</td>\n",
       "    </tr>\n",
       "    <tr>\n",
       "      <td>ASHOKA</td>\n",
       "      <td>0.247757</td>\n",
       "      <td>0.361509</td>\n",
       "    </tr>\n",
       "    <tr>\n",
       "      <td>JETAIRWAYS</td>\n",
       "      <td>0.548230</td>\n",
       "      <td>0.421530</td>\n",
       "    </tr>\n",
       "  </tbody>\n",
       "</table>\n",
       "</div>"
      ],
      "text/plain": [
       "              Returns  Volatility\n",
       "GAIL         0.343332    0.284225\n",
       "IOC         -0.090250    0.277190\n",
       "LT          -0.466622    0.469238\n",
       "TCS          0.165402    0.195432\n",
       "MARUTI       0.534278    0.155791\n",
       "INFY         0.140710    0.242150\n",
       "INFRATEL    -0.008249    0.326391\n",
       "BPCL        -0.390129    0.506139\n",
       "SUNPHARMA   -0.297227    0.337743\n",
       "RELIANCE    -0.280770    0.691471\n",
       "IGL         -0.479287    1.090425\n",
       "IDBI        -0.323429    0.424137\n",
       "PNB          0.324857    0.708476\n",
       "MRPL        -0.084480    0.359268\n",
       "SUNTV        0.129259    0.346028\n",
       "TATACHEM     0.250370    0.246637\n",
       "TATAPOWER    0.175810    0.248390\n",
       "DHFL        30.245076    8.769715\n",
       "RBLBANK     -0.152965    0.227492\n",
       "GODREJIND    0.085021    0.275577\n",
       "IDFC        -0.105036    0.332030\n",
       "ITDC        -0.255867    0.524879\n",
       "IRCON       -0.079240    0.301518\n",
       "NCC         -0.183927    0.285611\n",
       "RCOM        -1.426379    0.696354\n",
       "VIPIND       1.036222    0.431718\n",
       "SUZLON      -0.559556    0.384850\n",
       "LUXIND       1.051938    0.347181\n",
       "ASHOKA       0.247757    0.361509\n",
       "JETAIRWAYS   0.548230    0.421530"
      ]
     },
     "execution_count": 92,
     "metadata": {},
     "output_type": "execute_result"
    }
   ],
   "source": [
    "from math import sqrt\n",
    "data = data.dropna()\n",
    "returns = data.pct_change().mean() * 252\n",
    "returns = pd.DataFrame(returns)\n",
    "returns.columns = ['Returns']\n",
    "returns['Volatility'] = data.pct_change().std() * sqrt(252)\n",
    "returns"
   ]
  },
  {
   "cell_type": "markdown",
   "metadata": {},
   "source": [
    "### Query 6.3 \n",
    "Cluster the 30 stocks according to their mean annual Volatilities and Returns using K-means clustering. Identify the optimum number of clusters using the Elbow curve method."
   ]
  },
  {
   "cell_type": "code",
   "execution_count": 179,
   "metadata": {},
   "outputs": [
    {
     "data": {
      "image/png": "[encoded data removed]",
      "text/plain": [
       "<Figure size 432x288 with 1 Axes>"
      ]
     },
     "metadata": {
      "needs_background": "light"
     },
     "output_type": "display_data"
    }
   ],
   "source": [
    "import numpy as np\n",
    "import pandas as pd\n",
    "import matplotlib.pyplot as plt\n",
    "from scipy.cluster.vq import kmeans,vq\n",
    "from scipy.spatial.distance import cdist\n",
    "from sklearn.cluster import KMeans\n",
    "from sklearn import metrics\n",
    "from pylab import plot,show\n",
    "\n",
    "data = np.asarray([np.asarray(returns['Returns']),np.asarray(returns['Volatility'])]).T\n",
    "X = data\n",
    "distortions = []\n",
    "K = range(1,10)\n",
    "for k in K:\n",
    "    kmeanModel = KMeans(n_clusters=k).fit(X)\n",
    "    kmeanModel.fit(X)\n",
    "    distortions.append(sum(np.min(cdist(X, kmeanModel.cluster_centers_, 'euclidean'), axis=1)) / X.shape[0])\n",
    "\n",
    "plt.plot(K, distortions, 'bx-')\n",
    "plt.xlabel('k')\n",
    "plt.ylabel('Distortion')\n",
    "plt.title('The Elbow Method showing the optimal k')\n",
    "plt.show()"
   ]
  },
  {
   "cell_type": "markdown",
   "metadata": {},
   "source": [
    "### Query 6.4\n",
    "Prepare a separate Data frame to show which stocks belong to the same cluster"
   ]
  },
  {
   "cell_type": "code",
   "execution_count": 180,
   "metadata": {},
   "outputs": [
    {
     "data": {
      "text/plain": [
       "[<matplotlib.lines.Line2D at 0xe90fb08>]"
      ]
     },
     "execution_count": 180,
     "metadata": {},
     "output_type": "execute_result"
    },
    {
     "data": {
      "image/png": "[encoded data removed]",
      "text/plain": [
       "<Figure size 432x288 with 1 Axes>"
      ]
     },
     "metadata": {
      "needs_background": "light"
     },
     "output_type": "display_data"
    }
   ],
   "source": [
    "centroids,_ = kmeans(X,3)\n",
    "idx,_ = vq(data,centroids)\n",
    "plot(data[idx==0,0],data[idx==0,1],'ob',\n",
    "     data[idx==1,0],data[idx==1,1],'oy',\n",
    "     data[idx==2,0],data[idx==2,1],'or',\n",
    "     data[idx==3,0],data[idx==3,1],'og',\n",
    "     data[idx==4,0],data[idx==4,1],'om')\n",
    "plot(centroids[:,0],centroids[:,1],'sg',markersize=3)"
   ]
  },
  {
   "cell_type": "code",
   "execution_count": 181,
   "metadata": {},
   "outputs": [
    {
     "name": "stdout",
     "output_type": "stream",
     "text": [
      "Returns       DHFL\n",
      "Volatility    DHFL\n",
      "dtype: object\n"
     ]
    }
   ],
   "source": [
    "print(returns.idxmax())"
   ]
  },
  {
   "cell_type": "code",
   "execution_count": 182,
   "metadata": {},
   "outputs": [],
   "source": [
    "returns.drop('DHFL',inplace=True)\n",
    "data = np.asarray([np.asarray(returns['Returns']),np.asarray(returns['Volatility'])]).T"
   ]
  },
  {
   "cell_type": "code",
   "execution_count": 183,
   "metadata": {},
   "outputs": [
    {
     "data": {
      "image/png": "[encoded data removed]",
      "text/plain": [
       "<Figure size 432x288 with 1 Axes>"
      ]
     },
     "metadata": {
      "needs_background": "light"
     },
     "output_type": "display_data"
    }
   ],
   "source": [
    "centroids,_ = kmeans(data,3)\n",
    "idx,_ = vq(data,centroids)\n",
    "plot(data[idx==0,0],data[idx==0,1],'ob',\n",
    "     data[idx==1,0],data[idx==1,1],'oy',\n",
    "     data[idx==2,0],data[idx==2,1],'or',\n",
    "     data[idx==3,0],data[idx==3,1],'og',\n",
    "     data[idx==4,0],data[idx==4,1],'om')\n",
    "plot(centroids[:,0],centroids[:,1],'sg',markersize=8)\n",
    "show()"
   ]
  },
  {
   "cell_type": "code",
   "execution_count": 185,
   "metadata": {},
   "outputs": [
    {
     "data": {
      "image/png": "[encoded data removed]",
      "text/plain": [
       "<Figure size 432x288 with 1 Axes>"
      ]
     },
     "metadata": {
      "needs_background": "light"
     },
     "output_type": "display_data"
    }
   ],
   "source": [
    "centroids,_ = kmeans(data,3)\n",
    "idx,_ = vq(data,centroids)\n",
    "plot(data[idx==0,0],data[idx==0,1],'ob',\n",
    "     data[idx==1,0],data[idx==1,1],'oy',\n",
    "     data[idx==2,0],data[idx==2,1],'or',\n",
    "     data[idx==3,0],data[idx==3,1],'og',\n",
    "     data[idx==4,0],data[idx==4,1],'om')\n",
    "plot(centroids[:,0],centroids[:,1],'sg',markersize=8)\n",
    "show()"
   ]
  },
  {
   "cell_type": "code",
   "execution_count": 186,
   "metadata": {},
   "outputs": [
    {
     "name": "stdout",
     "output_type": "stream",
     "text": [
      "('GAIL', 0)\n",
      "('IOC', 2)\n",
      "('LT', 2)\n",
      "('TCS', 0)\n",
      "('MARUTI', 0)\n",
      "('INFY', 0)\n",
      "('INFRATEL', 0)\n",
      "('BPCL', 2)\n",
      "('SUNPHARMA', 2)\n",
      "('RELIANCE', 2)\n",
      "('IGL', 2)\n",
      "('IDBI', 2)\n",
      "('PNB', 0)\n",
      "('MRPL', 2)\n",
      "('SUNTV', 0)\n",
      "('TATACHEM', 0)\n",
      "('TATAPOWER', 0)\n",
      "('RBLBANK', 2)\n",
      "('GODREJIND', 0)\n",
      "('IDFC', 2)\n",
      "('ITDC', 2)\n",
      "('IRCON', 2)\n",
      "('NCC', 2)\n",
      "('RCOM', 2)\n",
      "('VIPIND', 1)\n",
      "('SUZLON', 2)\n",
      "('LUXIND', 1)\n",
      "('ASHOKA', 0)\n",
      "('JETAIRWAYS', 0)\n"
     ]
    }
   ],
   "source": [
    "details = [(name,cluster) for name, cluster in zip(returns.index,idx)]\n",
    "for detail in details:\n",
    "    print(detail)"
   ]
  }
 ],
 "metadata": {
  "kernelspec": {
   "display_name": "Python 3",
   "language": "python",
   "name": "python3"
  },
  "language_info": {
   "codemirror_mode": {
    "name": "ipython",
    "version": 3
   },
   "file_extension": ".py",
   "mimetype": "text/x-python",
   "name": "python",
   "nbconvert_exporter": "python",
   "pygments_lexer": "ipython3",
   "version": "3.7.4"
  }
 },
 "nbformat": 4,
 "nbformat_minor": 2
}
